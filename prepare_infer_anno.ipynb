{
 "cells": [
  {
   "cell_type": "code",
   "execution_count": 8,
   "metadata": {},
   "outputs": [],
   "source": [
    "import os\n",
    "import numpy as np\n",
    "from utils.conversion import xyz2pixel\n",
    "import json\n",
    "from tqdm import tqdm"
   ]
  },
  {
   "cell_type": "code",
   "execution_count": null,
   "metadata": {},
   "outputs": [],
   "source": [
    "def get_cor(anno):\n",
    "    corner_xz = np.array(anno['layout_raw']['vertices'])\n",
    "    corner_xz[..., 0] = -corner_xz[..., 0]\n",
    "    corner_xyz = np.insert(corner_xz, 1, anno['camera_height'], axis=1)\n",
    "    ratio = np.array([(anno['ceiling_height'] - anno['camera_height']) / anno['camera_height']], dtype=np.float32)\n",
    "    ceil = corner_xyz*[1,-1*ratio.item(),1]\n",
    "    infer_corners = xyz2pixel(np.concatenate([ceil,corner_xyz]))\n",
    "    return infer_corners"
   ]
  },
  {
   "cell_type": "code",
   "execution_count": null,
   "metadata": {},
   "outputs": [],
   "source": [
    "data_dir = \"/media/user/WD_BLACK/noah/zind/datasets\"\n",
    "indices = os.listdir(data_dir)\n",
    "for index in tqdm(indices):\n",
    "    with open(os.path.join(data_dir,index,\"zind_data.json\")) as file:\n",
    "        anno = json.load(file)\n",
    "    anno = anno['merger']\n",
    "    for floor in anno:\n",
    "        for complete_room in anno[floor]:\n",
    "            for partial_room in anno[floor][complete_room]:\n",
    "                for pano in anno[floor][complete_room][partial_room]:\n",
    "                    now = anno[floor][complete_room][partial_room][pano]\n",
    "                    infer_cor = get_cor(now)\n",
    "                    img_path = now['image_path']\n",
    "                    name = img_path.split('/')[1]\n",
    "                    with open(os.path.join(data_dir,index,'panos',name+'.txt'),'w') as data:\n",
    "                        for cor in infer_cor:\n",
    "                            data.write(' '.join(map(str, cor)) + '\\n') \n"
   ]
  }
 ],
 "metadata": {
  "kernelspec": {
   "display_name": "Python 3",
   "language": "python",
   "name": "python3"
  },
  "language_info": {
   "codemirror_mode": {
    "name": "ipython",
    "version": 3
   },
   "file_extension": ".py",
   "mimetype": "text/x-python",
   "name": "python",
   "nbconvert_exporter": "python",
   "pygments_lexer": "ipython3",
   "version": "3.11.6"
  }
 },
 "nbformat": 4,
 "nbformat_minor": 2
}
